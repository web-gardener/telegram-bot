{
  "nbformat": 4,
  "nbformat_minor": 0,
  "metadata": {
    "colab": {
      "provenance": [],
      "authorship_tag": "ABX9TyP0HW9MZuQOfozMHSVSHnMb",
      "include_colab_link": true
    },
    "kernelspec": {
      "name": "python3",
      "display_name": "Python 3"
    },
    "language_info": {
      "name": "python"
    }
  },
  "cells": [
    {
      "cell_type": "markdown",
      "metadata": {
        "id": "view-in-github",
        "colab_type": "text"
      },
      "source": [
        "<a href=\"https://colab.research.google.com/github/shamitha29/Telegram_Bot/blob/main/telegram_bot.ipynb\" target=\"_parent\"><img src=\"https://colab.research.google.com/assets/colab-badge.svg\" alt=\"Open In Colab\"/></a>"
      ]
    },
    {
      "cell_type": "code",
      "execution_count": 22,
      "metadata": {
        "colab": {
          "base_uri": "https://localhost:8080/"
        },
        "id": "dnvmkfdZl29I",
        "outputId": "a9d1fb9c-46c2-4419-b0fe-5b9c63c5eec3"
      },
      "outputs": [
        {
          "output_type": "stream",
          "name": "stdout",
          "text": [
            "Looking in indexes: https://pypi.org/simple, https://us-python.pkg.dev/colab-wheels/public/simple/\n",
            "Requirement already satisfied: python-telegram-bot==13.3 in /usr/local/lib/python3.10/dist-packages (13.3)\n",
            "Requirement already satisfied: certifi in /usr/local/lib/python3.10/dist-packages (from python-telegram-bot==13.3) (2022.12.7)\n",
            "Requirement already satisfied: tornado>=5.1 in /usr/local/lib/python3.10/dist-packages (from python-telegram-bot==13.3) (6.3.1)\n",
            "Requirement already satisfied: APScheduler==3.6.3 in /usr/local/lib/python3.10/dist-packages (from python-telegram-bot==13.3) (3.6.3)\n",
            "Requirement already satisfied: pytz>=2018.6 in /usr/local/lib/python3.10/dist-packages (from python-telegram-bot==13.3) (2022.7.1)\n",
            "Requirement already satisfied: setuptools>=0.7 in /usr/local/lib/python3.10/dist-packages (from APScheduler==3.6.3->python-telegram-bot==13.3) (67.7.2)\n",
            "Requirement already satisfied: six>=1.4.0 in /usr/local/lib/python3.10/dist-packages (from APScheduler==3.6.3->python-telegram-bot==13.3) (1.16.0)\n",
            "Requirement already satisfied: tzlocal>=1.2 in /usr/local/lib/python3.10/dist-packages (from APScheduler==3.6.3->python-telegram-bot==13.3) (4.3)\n",
            "Requirement already satisfied: pytz-deprecation-shim in /usr/local/lib/python3.10/dist-packages (from tzlocal>=1.2->APScheduler==3.6.3->python-telegram-bot==13.3) (0.1.0.post0)\n",
            "Requirement already satisfied: tzdata in /usr/local/lib/python3.10/dist-packages (from pytz-deprecation-shim->tzlocal>=1.2->APScheduler==3.6.3->python-telegram-bot==13.3) (2023.3)\n"
          ]
        }
      ],
      "source": [
        "pip install python-telegram-bot==13.3"
      ]
    },
    {
      "cell_type": "code",
      "source": [
        "from telegram import *"
      ],
      "metadata": {
        "id": "XhQH5BYxmD1-"
      },
      "execution_count": 23,
      "outputs": []
    },
    {
      "cell_type": "code",
      "source": [
        "import telegram.ext\n",
        "from telegram.ext import *"
      ],
      "metadata": {
        "id": "UfyKjuWrmcK-"
      },
      "execution_count": 24,
      "outputs": []
    },
    {
      "cell_type": "code",
      "source": [
        "from telegram import Update, ForceReply\n",
        "from telegram.ext import Updater, CommandHandler, MessageHandler, Filters, CallbackContext"
      ],
      "metadata": {
        "id": "2fKurGE_mcSO"
      },
      "execution_count": 25,
      "outputs": []
    },
    {
      "cell_type": "code",
      "source": [
        "Token=\"5925064169:AAGUaD2WMHrmEGhvtB3IriS1lITNpTYAeoo\""
      ],
      "metadata": {
        "id": "XlxHvltFmcVs"
      },
      "execution_count": 26,
      "outputs": []
    },
    {
      "cell_type": "code",
      "source": [
        "updater= telegram.ext.Updater(\"5925064169:AAGUaD2WMHrmEGhvtB3IriS1lITNpTYAeoo\")\n",
        "dispatcher=updater.dispatcher"
      ],
      "metadata": {
        "id": "QDVuzkSooVFw"
      },
      "execution_count": 27,
      "outputs": []
    },
    {
      "cell_type": "code",
      "source": [
        "def start(update,context):\n",
        "    update.message.reply_text(\"Hello! Learn about Telegram bot\")"
      ],
      "metadata": {
        "id": "gV5O8mJjoVP4"
      },
      "execution_count": 28,
      "outputs": []
    },
    {
      "cell_type": "code",
      "source": [
        "def help(update,context):\n",
        "    update.message.reply_text(\n",
        "        \"\"\"\n",
        "        /start-> Welcome\n",
        "/help-> Message\n",
        "/content-> Options\n",
        "/Python-> Python playlist\n",
        "/DSwithPython-> DS with Python playlist\n",
        "/problemsolving-> Problem solving with python playlist\n",
        "        \"\"\"\n",
        "    )"
      ],
      "metadata": {
        "id": "5q3BwSMBoiA_"
      },
      "execution_count": 29,
      "outputs": []
    },
    {
      "cell_type": "code",
      "source": [
        "def content(update, context):\n",
        "    update.message.reply_text(\"We have various articles and playlists available\")"
      ],
      "metadata": {
        "id": "px6JhCI4oiEN"
      },
      "execution_count": 30,
      "outputs": []
    },
    {
      "cell_type": "code",
      "source": [
        "def Python(update, context):\n",
        "    update.message.reply_text(\"Learn Python :https://youtube.com/playlist?list=PLBZBJbE_rGRWeh5mIBhD-hhDwSEDxogDg \")"
      ],
      "metadata": {
        "id": "sMhtDhrJoiPZ"
      },
      "execution_count": 31,
      "outputs": []
    },
    {
      "cell_type": "code",
      "source": [
        "def DSwithPython(update, context):\n",
        "    update.message.reply_test(\"Learn Data Structure with Python:https://www.youtube.com/watch?v=m9n2f9lhtrw \")"
      ],
      "metadata": {
        "id": "iqQuVc-mouxf"
      },
      "execution_count": 32,
      "outputs": []
    },
    {
      "cell_type": "code",
      "source": [
        "def Problemsolving(update, context):\n",
        "    update.message.reply_text(\"Problem solving using Python:https://www.youtube.com/watch?v=hiqoCvPs_Jc \")"
      ],
      "metadata": {
        "id": "_v-6rfxAou06"
      },
      "execution_count": 33,
      "outputs": []
    },
    {
      "cell_type": "code",
      "source": [
        "dispatcher.add_handler(CommandHandler('start',start))"
      ],
      "metadata": {
        "id": "_XVdEe6to4t-"
      },
      "execution_count": 34,
      "outputs": []
    },
    {
      "cell_type": "code",
      "source": [
        "dispatcher.add_handler(CommandHandler('start',start))"
      ],
      "metadata": {
        "id": "7UX_wHJ4o7fj"
      },
      "execution_count": 35,
      "outputs": []
    },
    {
      "cell_type": "code",
      "source": [
        "dispatcher.add_handler(CommandHandler('content',content))"
      ],
      "metadata": {
        "id": "ter1MyS3o7h5"
      },
      "execution_count": 36,
      "outputs": []
    },
    {
      "cell_type": "code",
      "source": [
        "dispatcher.add_handler(CommandHandler('Python',Python))"
      ],
      "metadata": {
        "id": "rMaIEfdwo7lc"
      },
      "execution_count": 37,
      "outputs": []
    },
    {
      "cell_type": "code",
      "source": [
        "dispatcher.add_handler(CommandHandler('DSwithPython',DSwithPython))"
      ],
      "metadata": {
        "id": "GDUSwPJyo4xb"
      },
      "execution_count": 38,
      "outputs": []
    },
    {
      "cell_type": "code",
      "source": [
        "dispatcher.add_handler(CommandHandler('Problemsolving',Problemsolving))"
      ],
      "metadata": {
        "id": "DsndwnoipIbt"
      },
      "execution_count": 39,
      "outputs": []
    },
    {
      "cell_type": "code",
      "source": [
        "dispatcher.add_handler(CommandHandler('help',help))"
      ],
      "metadata": {
        "id": "eWcC9zzlpNCG"
      },
      "execution_count": 40,
      "outputs": []
    },
    {
      "cell_type": "code",
      "source": [
        "updater.start_polling()"
      ],
      "metadata": {
        "colab": {
          "base_uri": "https://localhost:8080/"
        },
        "id": "yMaBwqtHpN4P",
        "outputId": "eb2973d0-b59a-475c-cdf6-663638278c66"
      },
      "execution_count": 41,
      "outputs": [
        {
          "output_type": "execute_result",
          "data": {
            "text/plain": [
              "<queue.Queue at 0x7f8b2ecf59f0>"
            ]
          },
          "metadata": {},
          "execution_count": 41
        }
      ]
    },
    {
      "cell_type": "code",
      "source": [
        "updater.idle()"
      ],
      "metadata": {
        "id": "whqA6W8upQ9E"
      },
      "execution_count": 42,
      "outputs": []
    }
  ]
}